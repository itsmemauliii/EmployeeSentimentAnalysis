# Cell 1: Import Libraries and Load Data
import pandas as pd
import matplotlib.pyplot as plt
import seaborn as sns

# Load the DataFrame with sentiment labels
try:
    df = pd.read_csv('test_in_with_sentiment.csv')
    print("Dataset 'test_in_with_sentiment.csv' loaded successfully.")
except FileNotFoundError:
    print("Error: 'test_in_with_sentiment.csv' not found. Please ensure it's in the same directory.")
    # Fallback to test(in).csv and re-run sentiment if the labeled file isn't found
    try:
        df = pd.read_csv('test(in).csv')
        print("Falling back to 'test(in).csv' and re-running sentiment analysis.")
        from textblob import TextBlob
        def get_polarity(text):
            return TextBlob(text).sentiment.polarity if isinstance(text, str) else 0.0
        def get_subjectivity(text):
            return TextBlob(text).sentiment.subjectivity if isinstance(text, str) else 0.0
        def categorize_sentiment(score):
            if score > 0: return 'Positive'
            elif score < 0: return 'Negative'
            else: return 'Neutral'
        df['polarity'] = df['body'].apply(get_polarity)
        df['subjectivity'] = df['body'].apply(get_subjectivity)
        df['sentiment'] = df['polarity'].apply(categorize_sentiment)
        df.to_csv('test_in_with_sentiment.csv', index=False) # Save for future runs
    except FileNotFoundError:
        print("Critical Error: Neither 'test_in_with_sentiment.csv' nor 'test(in).csv' found.")
        exit()


# Cell 2: Visualization 1 - Distribution of Sentiment Labels
plt.figure(figsize=(8, 6))
sns.countplot(data=df, x='sentiment', order=['Positive', 'Neutral', 'Negative'], palette='viridis')
plt.title('Distribution of Sentiment Labels')
plt.xlabel('Sentiment')
plt.ylabel('Number of Messages')
plt.grid(axis='y', alpha=0.75)
plt.show() # Display plot in notebook
plt.savefig('sentiment_distribution.png') # Save plot as PNG
plt.close() # Close the plot to free memory, optional in notebooks but good practice
print("Saved: sentiment_distribution.png")

# Cell 3: Visualization 2 - Polarity vs Subjectivity Scatter Plot
# Take a random sample if the dataset is too large for clear scatter plot visualization
sample_df = df.sample(min(1000, len(df)), random_state=42) # Sample up to 1000 points
plt.figure(figsize=(10, 7))
sns.scatterplot(data=sample_df, x='polarity', y='subjectivity', hue='sentiment',
                palette={'Positive': 'green', 'Neutral': 'blue', 'Negative': 'red'}, alpha=0.6)
plt.title('Polarity vs. Subjectivity of Messages')
plt.xlabel('Polarity (-1:Negative, 1:Positive)')
plt.ylabel('Subjectivity (0:Objective, 1:Subjective)')
plt.axvline(x=0, color='gray', linestyle='--', linewidth=0.8) # Neutral line for polarity
plt.grid(True, linestyle='--', alpha=0.5)
plt.show()
plt.savefig('polarity_subjectivity_scatter.png')
plt.close()
print("Saved: polarity_subjectivity_scatter.png")


# Cell 4: Visualization 3 - Sentiment distribution by sender (top N senders)
# Identify top N senders (e.g., top 10)
top_senders = df['from'].value_counts().nlargest(10).index
df_top_senders = df[df['from'].isin(top_senders)]

if not df_top_senders.empty:
    plt.figure(figsize=(12, 7))
    sns.countplot(data=df_top_senders, x='from', hue='sentiment',
                  order=top_senders, palette='viridis')
    plt.title('Sentiment Distribution by Top 10 Senders')
    plt.xlabel('Sender Email')
    plt.ylabel('Number of Messages')
    plt.xticks(rotation=45, ha='right')
    plt.legend(title='Sentiment')
    plt.tight_layout()
    plt.show()
    plt.savefig('sentiment_by_sender.png')
    plt.close()
    print("Saved: sentiment_by_sender.png")
else:
    print("Not enough data to create 'Sentiment Distribution by Top Senders' plot.")
